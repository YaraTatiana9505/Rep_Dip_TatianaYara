{
 "cells": [
  {
   "cell_type": "markdown",
   "metadata": {
    "id": "nFt0TQ-UdptI"
   },
   "source": [
    "# La nostalgía del melómano\r\n",
    "\r\n"
   ]
  },
  {
   "cell_type": "markdown",
   "metadata": {
    "id": "tzbl67S5jqR1"
   },
   "source": [
    "## Capitulo uno\r\n",
    "\r\n",
    "[Venta en amazon](https://www.amazon.com/s?k=nostalgia+del+melomano&__mk_es_US=%C3%85M%C3%85%C5%BD%C3%95%C3%91&ref=nb_sb_noss)\r\n",
    "\r\n",
    "[Aprender Markdown](https://markdown.es/)\r\n",
    "\r\n",
    "![La nostalgia](http://webs.ucm.es/info/especulo/numero32/garay1.jpg)\r\n",
    "\r\n",
    "***Que tú nunca podrás abarcar la música en un solo instante, que tienes que esperar mientras transcurre, ir escuchando una nota detás de otra***\r\n",
    "\r\n",
    ">> Ese día no viniste a Cocodrilo Discos\r\n",
    "\r\n"
   ]
  },
  {
   "cell_type": "markdown",
   "metadata": {
    "id": "QFQ9vTA9liAp"
   },
   "source": [
    "# Lenguaje LaTeX"
   ]
  },
  {
   "cell_type": "markdown",
   "metadata": {
    "id": "ZHm0ENyqlnCw"
   },
   "source": [
    "El lenguaje LaTex se usa para colocar ecuaciones matemáticas de forma profesional...\r\n",
    "Es el lenguaje estándar usado por la mayoría de los científicos en el mundo.\r\n",
    "\r\n",
    "$$y=x^2$$\r\n",
    "\r\n",
    "$$\\frac{dC}{dt}=kC$$"
   ]
  },
  {
   "cell_type": "code",
   "execution_count": null,
   "metadata": {
    "id": "73bYwCdqll8v"
   },
   "outputs": [],
   "source": [
    "print()"
   ]
  }
 ],
 "metadata": {
  "colab": {
   "name": "Mi primer Cuadernito.ipynb",
   "provenance": []
  },
  "kernelspec": {
   "display_name": "Python 3",
   "language": "python",
   "name": "python3"
  },
  "language_info": {
   "codemirror_mode": {
    "name": "ipython",
    "version": 3
   },
   "file_extension": ".py",
   "mimetype": "text/x-python",
   "name": "python",
   "nbconvert_exporter": "python",
   "pygments_lexer": "ipython3",
   "version": "3.8.5"
  }
 },
 "nbformat": 4,
 "nbformat_minor": 4
}
