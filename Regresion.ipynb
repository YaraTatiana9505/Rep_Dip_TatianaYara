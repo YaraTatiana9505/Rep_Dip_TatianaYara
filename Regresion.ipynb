{
 "cells": [
  {
   "cell_type": "markdown",
   "metadata": {},
   "source": [
    "# <span style=\"color:green\"><center>Regresión Lineal</center></span>"
   ]
  },
  {
   "cell_type": "markdown",
   "metadata": {},
   "source": [
    "##   <span style=\"color:blue\">1. Introducción</span>"
   ]
  },
  {
   "cell_type": "markdown",
   "metadata": {},
   "source": [
    "Son frecuentes en la práctica situaciones en las que se cuenta con observaciones de diversas variables, y es razonable pensar en una relación entre estas. El poder determinar si existe esta relación, es de interés. Por una parte, esto permitiría, conocidos los valores de algunas variables, efectuar predicciones sobre los valores previsibles de otra. Podríamos también responder con criterio estadístico a cuestiones acerca de la relación de una variable sobre otra. El análisis de regresión es una método estadístico para investigar y modelar la relación lineal existente entre variables. Son numerosas las aplicaciones de la regresión en cualquier área. Por ejemplo, se podría intentar explicar el peso en función de la altura. "
   ]
  },
  {
   "cell_type": "markdown",
   "metadata": {},
   "source": [
    "El objetivo de un modelo de regresión es tratar de explicar la relación que existe entre una variable dependiente (variable respuesta) $Y$, y un conjunto de variables independientes (variables explicativas) $X_1$,..., $X_m$.\n",
    "Este modelo puede ser expresado como:\n"
   ]
  },
  {
   "cell_type": "markdown",
   "metadata": {},
   "source": [
    "$${\\displaystyle Y=\\beta _{0}+\\beta _{1}X_{1}+\\cdots +\\beta _{m}X_{m}+\\varepsilon_i }$$"
   ]
  },
  {
   "cell_type": "markdown",
   "metadata": {},
   "source": [
    "donde:\n",
    "\n",
    "${\\displaystyle Y}$: es la variable dependiente o variable de respuesta.\\\n",
    "${\\displaystyle X_{1},X_{2},\\dots ,X_{m}}$: son las variables explicativas, independientes o regresoras.\\\n",
    "${\\displaystyle \\beta _{0},\\beta _{1},\\beta _{2},\\dots ,\\beta _{m}}$: son los parámetros del modelo, miden la influencia que las variables explicativas tienen sobre la variable respuesta.\\\n",
    "${\\displaystyle \\beta _{0}}$: es la intersección o término \"constante\".\\\n",
    "${\\displaystyle m}$ es el número de parámetros independientes a tener en cuenta en la regresión.\\\n",
    "$\\varepsilon_i$: es el error."
   ]
  },
  {
   "cell_type": "markdown",
   "metadata": {},
   "source": [
    "Un modelo de regresión no implica que haya una relación de causa efecto entre las variables. Aunque pueda existir una marcada relación empírica entre dos o más variables, no puede considerarse como prueba de que las variables regresoras y la respuesta estén relacionadas en forma de causa-efecto."
   ]
  },
  {
   "cell_type": "markdown",
   "metadata": {},
   "source": [
    "##   <span style=\"color:blue\">2. Breve Historia</span>"
   ]
  },
  {
   "cell_type": "markdown",
   "metadata": {},
   "source": [
    "La primera forma de regresión lineal documentada fue el método de los mínimos cuadrados que fue publicada por Legendre en 1805, Gauss publicó un trabajo en donde desarrollaba de manera más profunda el método de los mínimos cuadrados, y en dónde se incluía una versión del teorema de Gauss-Márkov.\\\n",
    "El término regresión fue introducido por Francis Galton en su libro Natural inheritance (1889) y fue confirmada por Karl Pearson. Su trabajo se centró en la descripción de los rasgos físicos de los descendientes (variable A) a partir de los de sus padres (variable B). "
   ]
  },
  {
   "cell_type": "markdown",
   "metadata": {},
   "source": [
    "<center><img src=https://upload.wikimedia.org/wikipedia/commons/thumb/a/a8/Sir_Francis_Galton%2C_1890s.jpg/800px-Sir_Francis_Galton%2C_1890s.jpg width=\"200\"><\\center>    "
   ]
  },
  {
   "cell_type": "markdown",
   "metadata": {},
   "source": [
    "Estudiando la altura de padres e hijos a partir de más de mil registros de grupos familiares, se llegó a la conclusión de que los padres muy altos tenían una tendencia a tener hijos que heredaban parte de esta altura, pero que revelaban también una tendencia a regresar a la media. Galton generalizó esta tendencia bajo la \"ley de la regresión universal\": Cada peculiaridad en un hombre es compartida por sus descendientes, pero en media, en un grado menor."
   ]
  },
  {
   "cell_type": "markdown",
   "metadata": {},
   "source": [
    "<center><img src=http://www.nocierreslosojos.com/wp-content/uploads/2020/10/regresion-media-1024x820.jpg width=\"300\"><\\center> "
   ]
  },
  {
   "cell_type": "markdown",
   "metadata": {},
   "source": [
    "La primera forma de regresiones lineales documentada fue el método de los mínimos cuadrados, el cual fue publicado por Legendre en 1805,1 y en dónde se incluía una versión del teorema de Gauss-Márkov.\n",
    "Hoy en día el sentido de regresión es el de predicción de una medida basándonos en el\n",
    "conocimiento de otra. "
   ]
  },
  {
   "cell_type": "markdown",
   "metadata": {},
   "source": [
    "##   <span style=\"color:blue\">3. Planteamiento del algoritmo</span>"
   ]
  },
  {
   "cell_type": "markdown",
   "metadata": {},
   "source": [
    "### 3.1 Regresión lineal simple"
   ]
  },
  {
   "cell_type": "markdown",
   "metadata": {},
   "source": [
    "El modelo de regresión lineal simple, es un modelo con un solo regresor $x$ que tiene relación con una variable respuesta $y$, donde la relación es una línea recta. El modelo se puede expresar de la siguiente forma:"
   ]
  },
  {
   "cell_type": "markdown",
   "metadata": {},
   "source": [
    "$$y=\\beta_0 + \\beta_1 x + \\varepsilon$$"
   ]
  },
  {
   "cell_type": "markdown",
   "metadata": {},
   "source": [
    "donde la ordenada al origen $\\beta_0$ y la pendiente $\\beta_1$ son constantes desconocidas, y $\\varepsilon$ es un\n",
    "componente aleatorio de error. Se supone que los errores tienen promedio $0$ y varianza $\\sigma^2$ desconocida. Además, se suele suponer que los errores no están correlacionados."
   ]
  },
  {
   "cell_type": "markdown",
   "metadata": {},
   "source": [
    "Dado que $\\beta_0$ y $\\beta_1$ son desconocidos, a partir de una muestra de datos, esos datos pueden obtenerse en un experimento controlado, diseñado en forma específica para recolectarlos, o en un estudio observacional, o a partir de registros históricos existentes se obtienen sus estimaciones $\\hat{\\beta}_0$ y $\\hat{\\beta}_1$. Estas estimaciones se conocen como coeficientes de regresión ó estimaciones por minimos cuadrados, ya que toman aquellos valores que minimizan la suma de cuadrados residuales, dando lugar a la recta que pasa más cerca de todos los puntos."
   ]
  },
  {
   "cell_type": "markdown",
   "metadata": {},
   "source": [
    "#### 3.1.1 Estmación de $\\beta_0$ y $\\beta_1$"
   ]
  },
  {
   "cell_type": "markdown",
   "metadata": {},
   "source": [
    "Para la estimación de  $\\beta_0$ y $\\beta_1$ se utilizará el **Método de mínimos cuadrados**, es decir, se estiman $\\beta_0$ y $\\beta_1$ tal que la suma de los cuadrados de las diferencias entre las observaciones $y_i$ y la línea recta sea mínima, lo que quiere decir, dado:"
   ]
  },
  {
   "cell_type": "markdown",
   "metadata": {},
   "source": [
    "$$y_i=\\beta_0 + \\beta_1 x_i +\\varepsilon_i$$"
   ]
  },
  {
   "cell_type": "markdown",
   "metadata": {},
   "source": [
    "Se quiere minimizar:"
   ]
  },
  {
   "cell_type": "markdown",
   "metadata": {},
   "source": [
    "$$S(\\beta_0,\\beta_1)=\\sum_{i=1}^{n}(y_i-\\beta_0-\\beta_1 x_i)^2$$"
   ]
  },
  {
   "cell_type": "markdown",
   "metadata": {},
   "source": [
    "De esta manera, los estimadores de $\\beta_0$ y $\\beta_1$, deben satisfacer, las siguientes ecuaciones llamadas **ecuaciones normales de mínimos cuadrados**:"
   ]
  },
  {
   "cell_type": "markdown",
   "metadata": {},
   "source": [
    "$$\\frac{\\partial S}{\\partial \\beta_0} \\Big | _{\\hat{\\beta_0} ,\\hat{\\beta_1}}=-2\\sum_{i=1}^{n} (y_i-\\hat{\\beta}_0-\\hat{\\beta}_1 x_i)=0$$"
   ]
  },
  {
   "cell_type": "markdown",
   "metadata": {},
   "source": [
    "$$\\frac{\\partial S}{\\partial \\beta_1} \\Big | _{\\hat{\\beta_0} ,\\hat{\\beta_1}}=-2\\sum_{i=1}^{n} (y_i-\\hat{\\beta}_0-\\hat{\\beta}_1 x_i)x_i=0$$"
   ]
  },
  {
   "cell_type": "markdown",
   "metadata": {},
   "source": [
    "De las cuales se obtiene:"
   ]
  },
  {
   "cell_type": "markdown",
   "metadata": {},
   "source": [
    "$$\\hat{\\beta}_0 = \\bar{y} - \\hat{\\beta}_1 \\bar{x} $$"
   ]
  },
  {
   "cell_type": "markdown",
   "metadata": {},
   "source": [
    "$$\\hat{\\beta}_1=\\frac{\\sum_{i=1}^{n} y_i x_i -\\frac{\\big(\\sum_{i=1}^{n} y_i\\big)\\big(\\sum_{i=1}^{n} x_i \\big)}{n}}{\\sum_{i=1}^{n} x_i^2 -\\frac{\\big(\\sum_{i=1}^{n} x_i \\big)^2}{n}}=\\frac{S_{xy}}{S_x^2}$$"
   ]
  },
  {
   "cell_type": "markdown",
   "metadata": {},
   "source": [
    "Además la diferencia entre el valor observado $y_i$ y el valor ajustado $\\hat{y}_i$ es llamado residual:"
   ]
  },
  {
   "cell_type": "markdown",
   "metadata": {},
   "source": [
    "$$e_i =y_i-\\hat{y}_i = y_i -(\\hat{\\beta}_0-\\hat{\\beta}_1x_i),\\ i=1,2,...,n$$"
   ]
  },
  {
   "cell_type": "markdown",
   "metadata": {},
   "source": [
    "Los residuales son utiles para observar el ajuste del modelo de regresión ajustado a los datos.  Finalmente el modelo ajustado de regresión lineal simple es\n",
    "\n",
    "$${\\displaystyle {\\hat {y}}={\\hat {\\beta }}_{0}+{\\hat {\\beta }}_{1}x}$$"
   ]
  },
  {
   "cell_type": "markdown",
   "metadata": {},
   "source": [
    "### 3.2 Regresión lineal multiple"
   ]
  },
  {
   "cell_type": "markdown",
   "metadata": {},
   "source": [
    "Constantemente en la práctica de la investigación estadística, se encuentran variables que de alguna manera están relacionadas entre sí, por lo que es posible que una de las variables puedan relacionarse matemáticamente en función de otra u otras variables.\n",
    "La regresión lineal permite analizar la relación entre dos o más variables a través de ecuaciones, lo que se denomina regresión lineal múltiple."
   ]
  },
  {
   "cell_type": "markdown",
   "metadata": {},
   "source": [
    "Este modelo cuenta con varias variables regresoras, por lo que cuenta con varios parámetros, para la regresión lineal múltiple, se asume que la variable de respuesta ${\\displaystyle Y}$ se relaciona con las variables regresoras ${X_{1},\\dots ,X_{m}}$ mediante la relación funcional:\n",
    "\n",
    "$${\\displaystyle {\\begin{aligned}Y&=\\beta _{0}+\\beta _{1}X_{1}+\\beta _{2}X_{2}+\\cdots +\\beta _{m}X_{m}+\\varepsilon \\\\&=\\beta _{0}+\\sum _{j=1}^{m}\\beta _{j}X_{j}+\\varepsilon \\end{aligned}}}$$"
   ]
  },
  {
   "cell_type": "markdown",
   "metadata": {},
   "source": [
    "Supongamos que se tiene una muestra de tamaño ${\\displaystyle n}$ dada por ${\\displaystyle \\{(x_{ij},y_{i})\\}}$ con ${\\displaystyle j=1,2,\\dots ,m}$ donde ${\\displaystyle x_{ij}}$ denota el ${\\displaystyle i}$ i-ésimo valor observado en el regresor ${\\displaystyle X_{j}}$ y ${\\displaystyle y_{i}}$ denota la ${\\displaystyle i}$ i-ésima observación de ${\\displaystyle Y}$ entonces el modelo toma la forma"
   ]
  },
  {
   "cell_type": "markdown",
   "metadata": {},
   "source": [
    "${\\displaystyle {\\begin{aligned}y_{i}&=\\beta _{0}+\\sum _{j=1}^{m}\\beta _{j}x_{ij}+\\varepsilon _{i}\\&=\\beta _{0}+\\beta _{1}x_{i1}+\\beta _{2}x_{i2}+\\cdots +\\beta _{m}x_{im}+\\varepsilon _{i}\\end{aligned}}}$,  donde ${\\displaystyle \\varepsilon _{i}}$ es el error asociado a la i-ésima medición del valor ${\\displaystyle X_{j}}$ y sigue los supuestos usuales de modo que ${\\displaystyle \\varepsilon _{i}\\sim N(0,\\sigma ^{2})}$ (media cero, varianza constante e igual a $\\sigma^2$ y ${\\displaystyle \\operatorname {Cov} (\\varepsilon _{i},\\varepsilon _{j})=0}$ con ${\\displaystyle i\\neq j}$."
   ]
  },
  {
   "cell_type": "markdown",
   "metadata": {},
   "source": [
    "De manera similar se obtiene:"
   ]
  },
  {
   "cell_type": "markdown",
   "metadata": {},
   "source": [
    "$${\\displaystyle {\\hat {\\beta }}=(X^{T}X)^{-1}X^{T}Y}$$"
   ]
  },
  {
   "cell_type": "markdown",
   "metadata": {},
   "source": [
    "##   <span style=\"color:blue\">4. Ejemplo de regresión lineal</span>"
   ]
  },
  {
   "cell_type": "markdown",
   "metadata": {},
   "source": [
    "Ahora se utilizará un conjunto de datos para aplicar el método de regresión lineal. Este conjunto de datos es un registro de 1338 personas, las cuales indicaron información y el valor que pagan por seguridad en salud. La base tiene las siguientes variables:\n",
    "\n",
    "* **Edad**: edad del beneficiario principal\n",
    "\n",
    "* **Genero**: Genero contratista del seguro (mujer, hombre)\n",
    "\n",
    "* **Indice**: índice de masa corporal, pesos que son relativamente altos o bajos en relación con la altura, índice objetivo de peso corporal (kg / m ^ 2) utilizando la relación entre la altura y el peso, idealmente 18,5 a 24,9\n",
    "\n",
    "* **Hijos**: Número de hijos cubiertos por el seguro médico / Número de dependientes\n",
    "\n",
    "* **Fumador**: Si la persona es fuma o no.\n",
    "\n",
    "* **Región**: el área residencial del beneficiario en los EE. UU., noreste, sureste, suroeste, noroeste.\n",
    "\n",
    "* **Costo**: Total costos médicos individuales facturados por el seguro médico."
   ]
  },
  {
   "cell_type": "markdown",
   "metadata": {},
   "source": [
    "## Importar Librerias"
   ]
  },
  {
   "cell_type": "code",
   "execution_count": 1,
   "metadata": {},
   "outputs": [],
   "source": [
    "from sklearn import linear_model\n",
    "from sklearn.metrics import mean_squared_error\n",
    "from sklearn.linear_model import LinearRegression\n",
    "from sklearn.model_selection import train_test_split\n",
    "from sklearn.preprocessing import LabelEncoder\n",
    "from sklearn import metrics\n",
    "import numpy as np\n",
    "import scipy as sc\n",
    "import matplotlib.pyplot as plt\n",
    "import pandas as pd\n",
    "import seaborn as sns\n",
    "from scipy import stats\n",
    "import os"
   ]
  },
  {
   "cell_type": "code",
   "execution_count": 2,
   "metadata": {},
   "outputs": [
    {
     "data": {
      "text/plain": [
       "'C:\\\\Users\\\\Nexbas\\\\Documents\\\\Diplomado\\\\Tareas'"
      ]
     },
     "execution_count": 2,
     "metadata": {},
     "output_type": "execute_result"
    }
   ],
   "source": [
    "os.getcwd()"
   ]
  },
  {
   "cell_type": "markdown",
   "metadata": {},
   "source": [
    "## Cargar Base de datos"
   ]
  },
  {
   "cell_type": "markdown",
   "metadata": {},
   "source": [
    "Primero, observamos la base, cuantos datos tiene, variables y una observación de estadística de resumen."
   ]
  },
  {
   "cell_type": "code",
   "execution_count": 3,
   "metadata": {},
   "outputs": [],
   "source": [
    "data=pd.read_csv(f\"{os.getcwd()}\\Regresion\\insurance.csv\")"
   ]
  },
  {
   "cell_type": "code",
   "execution_count": 4,
   "metadata": {},
   "outputs": [],
   "source": [
    "data.columns=['Edad','Genero','Indice','Hijos','Fumador','Region','Costo']"
   ]
  },
  {
   "cell_type": "code",
   "execution_count": 5,
   "metadata": {},
   "outputs": [
    {
     "data": {
      "text/plain": [
       "Edad       1338\n",
       "Genero     1338\n",
       "Indice     1338\n",
       "Hijos      1338\n",
       "Fumador    1338\n",
       "Region     1338\n",
       "Costo      1338\n",
       "dtype: int64"
      ]
     },
     "execution_count": 5,
     "metadata": {},
     "output_type": "execute_result"
    }
   ],
   "source": [
    "data.count()"
   ]
  },
  {
   "cell_type": "code",
   "execution_count": 6,
   "metadata": {},
   "outputs": [
    {
     "data": {
      "text/plain": [
       "Edad         int64\n",
       "Genero      object\n",
       "Indice     float64\n",
       "Hijos        int64\n",
       "Fumador     object\n",
       "Region      object\n",
       "Costo      float64\n",
       "dtype: object"
      ]
     },
     "execution_count": 6,
     "metadata": {},
     "output_type": "execute_result"
    }
   ],
   "source": [
    "data.dtypes"
   ]
  },
  {
   "cell_type": "code",
   "execution_count": 7,
   "metadata": {},
   "outputs": [
    {
     "data": {
      "text/html": [
       "<div>\n",
       "<style scoped>\n",
       "    .dataframe tbody tr th:only-of-type {\n",
       "        vertical-align: middle;\n",
       "    }\n",
       "\n",
       "    .dataframe tbody tr th {\n",
       "        vertical-align: top;\n",
       "    }\n",
       "\n",
       "    .dataframe thead th {\n",
       "        text-align: right;\n",
       "    }\n",
       "</style>\n",
       "<table border=\"1\" class=\"dataframe\">\n",
       "  <thead>\n",
       "    <tr style=\"text-align: right;\">\n",
       "      <th></th>\n",
       "      <th>Edad</th>\n",
       "      <th>Genero</th>\n",
       "      <th>Indice</th>\n",
       "      <th>Hijos</th>\n",
       "      <th>Fumador</th>\n",
       "      <th>Region</th>\n",
       "      <th>Costo</th>\n",
       "    </tr>\n",
       "  </thead>\n",
       "  <tbody>\n",
       "    <tr>\n",
       "      <th>0</th>\n",
       "      <td>19</td>\n",
       "      <td>female</td>\n",
       "      <td>27.900</td>\n",
       "      <td>0</td>\n",
       "      <td>si</td>\n",
       "      <td>Souroeste</td>\n",
       "      <td>16884.92400</td>\n",
       "    </tr>\n",
       "    <tr>\n",
       "      <th>1</th>\n",
       "      <td>18</td>\n",
       "      <td>male</td>\n",
       "      <td>33.770</td>\n",
       "      <td>1</td>\n",
       "      <td>no</td>\n",
       "      <td>Sureste</td>\n",
       "      <td>1725.55230</td>\n",
       "    </tr>\n",
       "    <tr>\n",
       "      <th>2</th>\n",
       "      <td>28</td>\n",
       "      <td>male</td>\n",
       "      <td>33.000</td>\n",
       "      <td>3</td>\n",
       "      <td>no</td>\n",
       "      <td>Sureste</td>\n",
       "      <td>4449.46200</td>\n",
       "    </tr>\n",
       "    <tr>\n",
       "      <th>3</th>\n",
       "      <td>33</td>\n",
       "      <td>male</td>\n",
       "      <td>22.705</td>\n",
       "      <td>0</td>\n",
       "      <td>no</td>\n",
       "      <td>Noroeste</td>\n",
       "      <td>21984.47061</td>\n",
       "    </tr>\n",
       "    <tr>\n",
       "      <th>4</th>\n",
       "      <td>32</td>\n",
       "      <td>male</td>\n",
       "      <td>28.880</td>\n",
       "      <td>0</td>\n",
       "      <td>no</td>\n",
       "      <td>Noroeste</td>\n",
       "      <td>3866.85520</td>\n",
       "    </tr>\n",
       "  </tbody>\n",
       "</table>\n",
       "</div>"
      ],
      "text/plain": [
       "   Edad  Genero  Indice  Hijos Fumador     Region        Costo\n",
       "0    19  female  27.900      0      si  Souroeste  16884.92400\n",
       "1    18    male  33.770      1      no    Sureste   1725.55230\n",
       "2    28    male  33.000      3      no    Sureste   4449.46200\n",
       "3    33    male  22.705      0      no   Noroeste  21984.47061\n",
       "4    32    male  28.880      0      no   Noroeste   3866.85520"
      ]
     },
     "execution_count": 7,
     "metadata": {},
     "output_type": "execute_result"
    }
   ],
   "source": [
    "data.head()"
   ]
  },
  {
   "cell_type": "markdown",
   "metadata": {},
   "source": [
    "## Análisis Exploratorio"
   ]
  },
  {
   "cell_type": "code",
   "execution_count": 8,
   "metadata": {},
   "outputs": [
    {
     "data": {
      "text/html": [
       "<div>\n",
       "<style scoped>\n",
       "    .dataframe tbody tr th:only-of-type {\n",
       "        vertical-align: middle;\n",
       "    }\n",
       "\n",
       "    .dataframe tbody tr th {\n",
       "        vertical-align: top;\n",
       "    }\n",
       "\n",
       "    .dataframe thead th {\n",
       "        text-align: right;\n",
       "    }\n",
       "</style>\n",
       "<table border=\"1\" class=\"dataframe\">\n",
       "  <thead>\n",
       "    <tr style=\"text-align: right;\">\n",
       "      <th></th>\n",
       "      <th>Edad</th>\n",
       "      <th>Indice</th>\n",
       "      <th>Hijos</th>\n",
       "      <th>Costo</th>\n",
       "    </tr>\n",
       "  </thead>\n",
       "  <tbody>\n",
       "    <tr>\n",
       "      <th>count</th>\n",
       "      <td>1338.000000</td>\n",
       "      <td>1338.000000</td>\n",
       "      <td>1338.000000</td>\n",
       "      <td>1338.000000</td>\n",
       "    </tr>\n",
       "    <tr>\n",
       "      <th>mean</th>\n",
       "      <td>39.207025</td>\n",
       "      <td>30.663397</td>\n",
       "      <td>1.094918</td>\n",
       "      <td>13270.422265</td>\n",
       "    </tr>\n",
       "    <tr>\n",
       "      <th>std</th>\n",
       "      <td>14.049960</td>\n",
       "      <td>6.098187</td>\n",
       "      <td>1.205493</td>\n",
       "      <td>12110.011237</td>\n",
       "    </tr>\n",
       "    <tr>\n",
       "      <th>min</th>\n",
       "      <td>18.000000</td>\n",
       "      <td>15.960000</td>\n",
       "      <td>0.000000</td>\n",
       "      <td>1121.873900</td>\n",
       "    </tr>\n",
       "    <tr>\n",
       "      <th>25%</th>\n",
       "      <td>27.000000</td>\n",
       "      <td>26.296250</td>\n",
       "      <td>0.000000</td>\n",
       "      <td>4740.287150</td>\n",
       "    </tr>\n",
       "    <tr>\n",
       "      <th>50%</th>\n",
       "      <td>39.000000</td>\n",
       "      <td>30.400000</td>\n",
       "      <td>1.000000</td>\n",
       "      <td>9382.033000</td>\n",
       "    </tr>\n",
       "    <tr>\n",
       "      <th>75%</th>\n",
       "      <td>51.000000</td>\n",
       "      <td>34.693750</td>\n",
       "      <td>2.000000</td>\n",
       "      <td>16639.912515</td>\n",
       "    </tr>\n",
       "    <tr>\n",
       "      <th>max</th>\n",
       "      <td>64.000000</td>\n",
       "      <td>53.130000</td>\n",
       "      <td>5.000000</td>\n",
       "      <td>63770.428010</td>\n",
       "    </tr>\n",
       "  </tbody>\n",
       "</table>\n",
       "</div>"
      ],
      "text/plain": [
       "              Edad       Indice        Hijos         Costo\n",
       "count  1338.000000  1338.000000  1338.000000   1338.000000\n",
       "mean     39.207025    30.663397     1.094918  13270.422265\n",
       "std      14.049960     6.098187     1.205493  12110.011237\n",
       "min      18.000000    15.960000     0.000000   1121.873900\n",
       "25%      27.000000    26.296250     0.000000   4740.287150\n",
       "50%      39.000000    30.400000     1.000000   9382.033000\n",
       "75%      51.000000    34.693750     2.000000  16639.912515\n",
       "max      64.000000    53.130000     5.000000  63770.428010"
      ]
     },
     "execution_count": 8,
     "metadata": {},
     "output_type": "execute_result"
    }
   ],
   "source": [
    "data.describe()"
   ]
  },
  {
   "cell_type": "markdown",
   "metadata": {},
   "source": [
    "#### Revisar datos duplicados"
   ]
  },
  {
   "cell_type": "code",
   "execution_count": 9,
   "metadata": {},
   "outputs": [
    {
     "data": {
      "text/html": [
       "<div>\n",
       "<style scoped>\n",
       "    .dataframe tbody tr th:only-of-type {\n",
       "        vertical-align: middle;\n",
       "    }\n",
       "\n",
       "    .dataframe tbody tr th {\n",
       "        vertical-align: top;\n",
       "    }\n",
       "\n",
       "    .dataframe thead th {\n",
       "        text-align: right;\n",
       "    }\n",
       "</style>\n",
       "<table border=\"1\" class=\"dataframe\">\n",
       "  <thead>\n",
       "    <tr style=\"text-align: right;\">\n",
       "      <th></th>\n",
       "      <th>Edad</th>\n",
       "      <th>Genero</th>\n",
       "      <th>Indice</th>\n",
       "      <th>Hijos</th>\n",
       "      <th>Fumador</th>\n",
       "      <th>Region</th>\n",
       "      <th>Costo</th>\n",
       "    </tr>\n",
       "  </thead>\n",
       "  <tbody>\n",
       "    <tr>\n",
       "      <th>581</th>\n",
       "      <td>19</td>\n",
       "      <td>male</td>\n",
       "      <td>30.59</td>\n",
       "      <td>0</td>\n",
       "      <td>no</td>\n",
       "      <td>Noroeste</td>\n",
       "      <td>1639.5631</td>\n",
       "    </tr>\n",
       "  </tbody>\n",
       "</table>\n",
       "</div>"
      ],
      "text/plain": [
       "     Edad Genero  Indice  Hijos Fumador    Region      Costo\n",
       "581    19   male   30.59      0      no  Noroeste  1639.5631"
      ]
     },
     "execution_count": 9,
     "metadata": {},
     "output_type": "execute_result"
    }
   ],
   "source": [
    "data[data.duplicated()]"
   ]
  },
  {
   "cell_type": "markdown",
   "metadata": {},
   "source": [
    "#### Retirar datos duplicados"
   ]
  },
  {
   "cell_type": "code",
   "execution_count": 10,
   "metadata": {},
   "outputs": [],
   "source": [
    "data = data.drop(581)"
   ]
  },
  {
   "cell_type": "code",
   "execution_count": 11,
   "metadata": {},
   "outputs": [
    {
     "data": {
      "text/plain": [
       "Edad       1337\n",
       "Genero     1337\n",
       "Indice     1337\n",
       "Hijos      1337\n",
       "Fumador    1337\n",
       "Region     1337\n",
       "Costo      1337\n",
       "dtype: int64"
      ]
     },
     "execution_count": 11,
     "metadata": {},
     "output_type": "execute_result"
    }
   ],
   "source": [
    "data.count()"
   ]
  },
  {
   "cell_type": "code",
   "execution_count": 12,
   "metadata": {},
   "outputs": [
    {
     "data": {
      "text/plain": [
       "Text(0.5, 1.0, 'Distribución por genero y estado')"
      ]
     },
     "execution_count": 12,
     "metadata": {},
     "output_type": "execute_result"
    },
    {
     "data": {
      "image/png": "[encoded data removed]",
      "text/plain": [
       "<Figure size 720x360 with 1 Axes>"
      ]
     },
     "metadata": {
      "needs_background": "light"
     },
     "output_type": "display_data"
    }
   ],
   "source": [
    "fig, ax = plt.subplots()\n",
    "fig.set_size_inches(10, 5)\n",
    "sns.boxplot(x='Genero', y='Costo',hue=\"Fumador\", data=data)\n",
    "ax.set_title('Distribución por genero y estado',fontsize=16, weight=\"bold\")"
   ]
  },
  {
   "cell_type": "markdown",
   "metadata": {},
   "source": [
    "En el anterior gráfico se observa:\n",
    "* 1. Los costos son independientes del Genero de la persona.\n",
    "* 2. El ser fumador hace que los costos del seguro sean más altos.\n",
    "* 3. Existen personas no fumadoras que tienen costos altos en comparación con las demás personas del mismo grupo."
   ]
  },
  {
   "cell_type": "code",
   "execution_count": 13,
   "metadata": {},
   "outputs": [
    {
     "data": {
      "text/plain": [
       "Text(0.5, 1.0, 'Distribución costos seguro medico')"
      ]
     },
     "execution_count": 13,
     "metadata": {},
     "output_type": "execute_result"
    },
    {
     "data": {
      "image/png": "[encoded data removed]",
      "text/plain": [
       "<Figure size 720x360 with 1 Axes>"
      ]
     },
     "metadata": {
      "needs_background": "light"
     },
     "output_type": "display_data"
    }
   ],
   "source": [
    "fig, ax = plt.subplots()\n",
    "fig.set_size_inches(10, 5)\n",
    "sns.histplot(data.Costo, ax=ax, color=\"Blue\")\n",
    "ax.set_title(\"Distribución costos seguro medico\")"
   ]
  },
  {
   "cell_type": "markdown",
   "metadata": {},
   "source": [
    "Del anterior gráfico se observa que la distribución del costo del seguro es una distribución sesgada a la izquierda, es decir, la mayoria de las personas tienen costos de salud bajos."
   ]
  },
  {
   "cell_type": "code",
   "execution_count": 14,
   "metadata": {},
   "outputs": [
    {
     "data": {
      "text/plain": [
       "<AxesSubplot:xlabel='Region', ylabel='Costo'>"
      ]
     },
     "execution_count": 14,
     "metadata": {},
     "output_type": "execute_result"
    },
    {
     "data": {
      "image/png": "[encoded data removed]",
      "text/plain": [
       "<Figure size 720x360 with 1 Axes>"
      ]
     },
     "metadata": {
      "needs_background": "light"
     },
     "output_type": "display_data"
    }
   ],
   "source": [
    "fig, ax = plt.subplots()\n",
    "fig.set_size_inches(10, 5)\n",
    "sns.boxplot(x=\"Region\", y=\"Costo\", hue=\"Hijos\", data=data, ax=ax)"
   ]
  },
  {
   "cell_type": "markdown",
   "metadata": {},
   "source": [
    "Del anterior gráfico se puede concluir que no existe una diferencia significativa a simple viste entre las regiones, aunque hay unas regiones en las cuales el costo tiene una distribución más dispersa por ejemplo en la sureste. Además en la región suroeste hay una personas con dos hijos que tienen costos altos en salud."
   ]
  },
  {
   "cell_type": "markdown",
   "metadata": {},
   "source": [
    "#### Creación de dummies para variables categóricas "
   ]
  },
  {
   "cell_type": "code",
   "execution_count": 15,
   "metadata": {},
   "outputs": [],
   "source": [
    "data['Costo']=np.log(data['Costo'])"
   ]
  },
  {
   "cell_type": "code",
   "execution_count": 16,
   "metadata": {},
   "outputs": [
    {
     "data": {
      "text/html": [
       "<div>\n",
       "<style scoped>\n",
       "    .dataframe tbody tr th:only-of-type {\n",
       "        vertical-align: middle;\n",
       "    }\n",
       "\n",
       "    .dataframe tbody tr th {\n",
       "        vertical-align: top;\n",
       "    }\n",
       "\n",
       "    .dataframe thead th {\n",
       "        text-align: right;\n",
       "    }\n",
       "</style>\n",
       "<table border=\"1\" class=\"dataframe\">\n",
       "  <thead>\n",
       "    <tr style=\"text-align: right;\">\n",
       "      <th></th>\n",
       "      <th>Edad</th>\n",
       "      <th>Indice</th>\n",
       "      <th>Hijos</th>\n",
       "      <th>Costo</th>\n",
       "      <th>Genero_male</th>\n",
       "      <th>Fumador_si</th>\n",
       "      <th>Region_Noroeste</th>\n",
       "      <th>Region_Souroeste</th>\n",
       "      <th>Region_Sureste</th>\n",
       "    </tr>\n",
       "  </thead>\n",
       "  <tbody>\n",
       "    <tr>\n",
       "      <th>0</th>\n",
       "      <td>19</td>\n",
       "      <td>27.900</td>\n",
       "      <td>0</td>\n",
       "      <td>9.734176</td>\n",
       "      <td>0</td>\n",
       "      <td>1</td>\n",
       "      <td>0</td>\n",
       "      <td>1</td>\n",
       "      <td>0</td>\n",
       "    </tr>\n",
       "    <tr>\n",
       "      <th>1</th>\n",
       "      <td>18</td>\n",
       "      <td>33.770</td>\n",
       "      <td>1</td>\n",
       "      <td>7.453302</td>\n",
       "      <td>1</td>\n",
       "      <td>0</td>\n",
       "      <td>0</td>\n",
       "      <td>0</td>\n",
       "      <td>1</td>\n",
       "    </tr>\n",
       "    <tr>\n",
       "      <th>2</th>\n",
       "      <td>28</td>\n",
       "      <td>33.000</td>\n",
       "      <td>3</td>\n",
       "      <td>8.400538</td>\n",
       "      <td>1</td>\n",
       "      <td>0</td>\n",
       "      <td>0</td>\n",
       "      <td>0</td>\n",
       "      <td>1</td>\n",
       "    </tr>\n",
       "    <tr>\n",
       "      <th>3</th>\n",
       "      <td>33</td>\n",
       "      <td>22.705</td>\n",
       "      <td>0</td>\n",
       "      <td>9.998092</td>\n",
       "      <td>1</td>\n",
       "      <td>0</td>\n",
       "      <td>1</td>\n",
       "      <td>0</td>\n",
       "      <td>0</td>\n",
       "    </tr>\n",
       "    <tr>\n",
       "      <th>4</th>\n",
       "      <td>32</td>\n",
       "      <td>28.880</td>\n",
       "      <td>0</td>\n",
       "      <td>8.260197</td>\n",
       "      <td>1</td>\n",
       "      <td>0</td>\n",
       "      <td>1</td>\n",
       "      <td>0</td>\n",
       "      <td>0</td>\n",
       "    </tr>\n",
       "    <tr>\n",
       "      <th>...</th>\n",
       "      <td>...</td>\n",
       "      <td>...</td>\n",
       "      <td>...</td>\n",
       "      <td>...</td>\n",
       "      <td>...</td>\n",
       "      <td>...</td>\n",
       "      <td>...</td>\n",
       "      <td>...</td>\n",
       "      <td>...</td>\n",
       "    </tr>\n",
       "    <tr>\n",
       "      <th>1333</th>\n",
       "      <td>50</td>\n",
       "      <td>30.970</td>\n",
       "      <td>3</td>\n",
       "      <td>9.268661</td>\n",
       "      <td>1</td>\n",
       "      <td>0</td>\n",
       "      <td>1</td>\n",
       "      <td>0</td>\n",
       "      <td>0</td>\n",
       "    </tr>\n",
       "    <tr>\n",
       "      <th>1334</th>\n",
       "      <td>18</td>\n",
       "      <td>31.920</td>\n",
       "      <td>0</td>\n",
       "      <td>7.698927</td>\n",
       "      <td>0</td>\n",
       "      <td>0</td>\n",
       "      <td>0</td>\n",
       "      <td>0</td>\n",
       "      <td>0</td>\n",
       "    </tr>\n",
       "    <tr>\n",
       "      <th>1335</th>\n",
       "      <td>18</td>\n",
       "      <td>36.850</td>\n",
       "      <td>0</td>\n",
       "      <td>7.396233</td>\n",
       "      <td>0</td>\n",
       "      <td>0</td>\n",
       "      <td>0</td>\n",
       "      <td>0</td>\n",
       "      <td>1</td>\n",
       "    </tr>\n",
       "    <tr>\n",
       "      <th>1336</th>\n",
       "      <td>21</td>\n",
       "      <td>25.800</td>\n",
       "      <td>0</td>\n",
       "      <td>7.604867</td>\n",
       "      <td>0</td>\n",
       "      <td>0</td>\n",
       "      <td>0</td>\n",
       "      <td>1</td>\n",
       "      <td>0</td>\n",
       "    </tr>\n",
       "    <tr>\n",
       "      <th>1337</th>\n",
       "      <td>61</td>\n",
       "      <td>29.070</td>\n",
       "      <td>0</td>\n",
       "      <td>10.279914</td>\n",
       "      <td>0</td>\n",
       "      <td>1</td>\n",
       "      <td>1</td>\n",
       "      <td>0</td>\n",
       "      <td>0</td>\n",
       "    </tr>\n",
       "  </tbody>\n",
       "</table>\n",
       "<p>1337 rows × 9 columns</p>\n",
       "</div>"
      ],
      "text/plain": [
       "      Edad  Indice  Hijos      Costo  Genero_male  Fumador_si  \\\n",
       "0       19  27.900      0   9.734176            0           1   \n",
       "1       18  33.770      1   7.453302            1           0   \n",
       "2       28  33.000      3   8.400538            1           0   \n",
       "3       33  22.705      0   9.998092            1           0   \n",
       "4       32  28.880      0   8.260197            1           0   \n",
       "...    ...     ...    ...        ...          ...         ...   \n",
       "1333    50  30.970      3   9.268661            1           0   \n",
       "1334    18  31.920      0   7.698927            0           0   \n",
       "1335    18  36.850      0   7.396233            0           0   \n",
       "1336    21  25.800      0   7.604867            0           0   \n",
       "1337    61  29.070      0  10.279914            0           1   \n",
       "\n",
       "      Region_Noroeste  Region_Souroeste  Region_Sureste  \n",
       "0                   0                 1               0  \n",
       "1                   0                 0               1  \n",
       "2                   0                 0               1  \n",
       "3                   1                 0               0  \n",
       "4                   1                 0               0  \n",
       "...               ...               ...             ...  \n",
       "1333                1                 0               0  \n",
       "1334                0                 0               0  \n",
       "1335                0                 0               1  \n",
       "1336                0                 1               0  \n",
       "1337                1                 0               0  \n",
       "\n",
       "[1337 rows x 9 columns]"
      ]
     },
     "execution_count": 16,
     "metadata": {},
     "output_type": "execute_result"
    }
   ],
   "source": [
    "data=pd.get_dummies(data,drop_first=True)\n",
    "data"
   ]
  },
  {
   "cell_type": "markdown",
   "metadata": {},
   "source": [
    "### Correlación "
   ]
  },
  {
   "cell_type": "code",
   "execution_count": 17,
   "metadata": {},
   "outputs": [
    {
     "data": {
      "text/html": [
       "<div>\n",
       "<style scoped>\n",
       "    .dataframe tbody tr th:only-of-type {\n",
       "        vertical-align: middle;\n",
       "    }\n",
       "\n",
       "    .dataframe tbody tr th {\n",
       "        vertical-align: top;\n",
       "    }\n",
       "\n",
       "    .dataframe thead th {\n",
       "        text-align: right;\n",
       "    }\n",
       "</style>\n",
       "<table border=\"1\" class=\"dataframe\">\n",
       "  <thead>\n",
       "    <tr style=\"text-align: right;\">\n",
       "      <th></th>\n",
       "      <th>Edad</th>\n",
       "      <th>Indice</th>\n",
       "      <th>Hijos</th>\n",
       "      <th>Costo</th>\n",
       "      <th>Genero_male</th>\n",
       "      <th>Fumador_si</th>\n",
       "      <th>Region_Noroeste</th>\n",
       "      <th>Region_Souroeste</th>\n",
       "      <th>Region_Sureste</th>\n",
       "    </tr>\n",
       "  </thead>\n",
       "  <tbody>\n",
       "    <tr>\n",
       "      <th>Edad</th>\n",
       "      <td>1.000000</td>\n",
       "      <td>0.109344</td>\n",
       "      <td>0.041536</td>\n",
       "      <td>0.526927</td>\n",
       "      <td>-0.019814</td>\n",
       "      <td>-0.025587</td>\n",
       "      <td>0.001495</td>\n",
       "      <td>0.009415</td>\n",
       "      <td>-0.012311</td>\n",
       "    </tr>\n",
       "    <tr>\n",
       "      <th>Indice</th>\n",
       "      <td>0.109344</td>\n",
       "      <td>1.000000</td>\n",
       "      <td>0.012755</td>\n",
       "      <td>0.132822</td>\n",
       "      <td>0.046397</td>\n",
       "      <td>0.003746</td>\n",
       "      <td>-0.136138</td>\n",
       "      <td>-0.006211</td>\n",
       "      <td>0.270057</td>\n",
       "    </tr>\n",
       "    <tr>\n",
       "      <th>Hijos</th>\n",
       "      <td>0.041536</td>\n",
       "      <td>0.012755</td>\n",
       "      <td>1.000000</td>\n",
       "      <td>0.160336</td>\n",
       "      <td>0.017848</td>\n",
       "      <td>0.007331</td>\n",
       "      <td>0.026044</td>\n",
       "      <td>0.021538</td>\n",
       "      <td>-0.023492</td>\n",
       "    </tr>\n",
       "    <tr>\n",
       "      <th>Costo</th>\n",
       "      <td>0.526927</td>\n",
       "      <td>0.132822</td>\n",
       "      <td>0.160336</td>\n",
       "      <td>1.000000</td>\n",
       "      <td>0.007009</td>\n",
       "      <td>0.665718</td>\n",
       "      <td>-0.015425</td>\n",
       "      <td>-0.042473</td>\n",
       "      <td>0.014968</td>\n",
       "    </tr>\n",
       "    <tr>\n",
       "      <th>Genero_male</th>\n",
       "      <td>-0.019814</td>\n",
       "      <td>0.046397</td>\n",
       "      <td>0.017848</td>\n",
       "      <td>0.007009</td>\n",
       "      <td>1.000000</td>\n",
       "      <td>0.076596</td>\n",
       "      <td>-0.012482</td>\n",
       "      <td>-0.003767</td>\n",
       "      <td>0.017578</td>\n",
       "    </tr>\n",
       "    <tr>\n",
       "      <th>Fumador_si</th>\n",
       "      <td>-0.025587</td>\n",
       "      <td>0.003746</td>\n",
       "      <td>0.007331</td>\n",
       "      <td>0.665718</td>\n",
       "      <td>0.076596</td>\n",
       "      <td>1.000000</td>\n",
       "      <td>-0.036321</td>\n",
       "      <td>-0.037168</td>\n",
       "      <td>0.068282</td>\n",
       "    </tr>\n",
       "    <tr>\n",
       "      <th>Region_Noroeste</th>\n",
       "      <td>0.001495</td>\n",
       "      <td>-0.136138</td>\n",
       "      <td>0.026044</td>\n",
       "      <td>-0.015425</td>\n",
       "      <td>-0.012482</td>\n",
       "      <td>-0.036321</td>\n",
       "      <td>1.000000</td>\n",
       "      <td>-0.320493</td>\n",
       "      <td>-0.345909</td>\n",
       "    </tr>\n",
       "    <tr>\n",
       "      <th>Region_Souroeste</th>\n",
       "      <td>0.009415</td>\n",
       "      <td>-0.006211</td>\n",
       "      <td>0.021538</td>\n",
       "      <td>-0.042473</td>\n",
       "      <td>-0.003767</td>\n",
       "      <td>-0.037168</td>\n",
       "      <td>-0.320493</td>\n",
       "      <td>1.000000</td>\n",
       "      <td>-0.346614</td>\n",
       "    </tr>\n",
       "    <tr>\n",
       "      <th>Region_Sureste</th>\n",
       "      <td>-0.012311</td>\n",
       "      <td>0.270057</td>\n",
       "      <td>-0.023492</td>\n",
       "      <td>0.014968</td>\n",
       "      <td>0.017578</td>\n",
       "      <td>0.068282</td>\n",
       "      <td>-0.345909</td>\n",
       "      <td>-0.346614</td>\n",
       "      <td>1.000000</td>\n",
       "    </tr>\n",
       "  </tbody>\n",
       "</table>\n",
       "</div>"
      ],
      "text/plain": [
       "                      Edad    Indice     Hijos     Costo  Genero_male  \\\n",
       "Edad              1.000000  0.109344  0.041536  0.526927    -0.019814   \n",
       "Indice            0.109344  1.000000  0.012755  0.132822     0.046397   \n",
       "Hijos             0.041536  0.012755  1.000000  0.160336     0.017848   \n",
       "Costo             0.526927  0.132822  0.160336  1.000000     0.007009   \n",
       "Genero_male      -0.019814  0.046397  0.017848  0.007009     1.000000   \n",
       "Fumador_si       -0.025587  0.003746  0.007331  0.665718     0.076596   \n",
       "Region_Noroeste   0.001495 -0.136138  0.026044 -0.015425    -0.012482   \n",
       "Region_Souroeste  0.009415 -0.006211  0.021538 -0.042473    -0.003767   \n",
       "Region_Sureste   -0.012311  0.270057 -0.023492  0.014968     0.017578   \n",
       "\n",
       "                  Fumador_si  Region_Noroeste  Region_Souroeste  \\\n",
       "Edad               -0.025587         0.001495          0.009415   \n",
       "Indice              0.003746        -0.136138         -0.006211   \n",
       "Hijos               0.007331         0.026044          0.021538   \n",
       "Costo               0.665718        -0.015425         -0.042473   \n",
       "Genero_male         0.076596        -0.012482         -0.003767   \n",
       "Fumador_si          1.000000        -0.036321         -0.037168   \n",
       "Region_Noroeste    -0.036321         1.000000         -0.320493   \n",
       "Region_Souroeste   -0.037168        -0.320493          1.000000   \n",
       "Region_Sureste      0.068282        -0.345909         -0.346614   \n",
       "\n",
       "                  Region_Sureste  \n",
       "Edad                   -0.012311  \n",
       "Indice                  0.270057  \n",
       "Hijos                  -0.023492  \n",
       "Costo                   0.014968  \n",
       "Genero_male             0.017578  \n",
       "Fumador_si              0.068282  \n",
       "Region_Noroeste        -0.345909  \n",
       "Region_Souroeste       -0.346614  \n",
       "Region_Sureste          1.000000  "
      ]
     },
     "execution_count": 17,
     "metadata": {},
     "output_type": "execute_result"
    }
   ],
   "source": [
    "data.corr()"
   ]
  },
  {
   "cell_type": "code",
   "execution_count": 18,
   "metadata": {},
   "outputs": [
    {
     "data": {
      "image/png": "[encoded data removed]",
      "text/plain": [
       "<Figure size 864x720 with 2 Axes>"
      ]
     },
     "metadata": {
      "needs_background": "light"
     },
     "output_type": "display_data"
    }
   ],
   "source": [
    "corr = data.corr()\n",
    "\n",
    "plt.figure(figsize=(12, 10))\n",
    "sns.heatmap(corr, annot=True, vmin=-1.0, cmap='mako')\n",
    "plt.show()"
   ]
  },
  {
   "cell_type": "markdown",
   "metadata": {},
   "source": [
    "No se observan correlaciones significativamente altas, por lo tengo procedemos a jsutar el modelo."
   ]
  },
  {
   "cell_type": "markdown",
   "metadata": {},
   "source": [
    "### División muestra de entrenamiento y test"
   ]
  },
  {
   "cell_type": "code",
   "execution_count": 19,
   "metadata": {},
   "outputs": [],
   "source": [
    "Y= data[['Costo']]\n",
    "X= data.drop(['Costo'],axis=1)"
   ]
  },
  {
   "cell_type": "code",
   "execution_count": 20,
   "metadata": {},
   "outputs": [],
   "source": [
    "X_train, X_test, y_train, y_test = train_test_split(X, Y, test_size=0.20)"
   ]
  },
  {
   "cell_type": "markdown",
   "metadata": {},
   "source": [
    "#### Ajuste de modelo"
   ]
  },
  {
   "cell_type": "code",
   "execution_count": 21,
   "metadata": {},
   "outputs": [
    {
     "name": "stdout",
     "output_type": "stream",
     "text": [
      "0.7729267281978047\n",
      "0.7440482112286732\n"
     ]
    }
   ],
   "source": [
    "from sklearn.linear_model import LinearRegression\n",
    "lr=LinearRegression()\n",
    "lr.fit(X_train,y_train)\n",
    "\n",
    "print(lr.score(X_train,y_train))\n",
    "print(lr.score(X_test,y_test))"
   ]
  },
  {
   "cell_type": "markdown",
   "metadata": {},
   "source": [
    "El modelo tiene el ajuste esperado, es decir, las variables influyen significatimvamente en el costo de salud y este comportamiento es posible modelarlo mediante un modelo de regresión lineal."
   ]
  },
  {
   "cell_type": "markdown",
   "metadata": {},
   "source": [
    "## Conclusiones"
   ]
  },
  {
   "cell_type": "markdown",
   "metadata": {},
   "source": [
    "* La regresión lineal simple y la regresión múltiple, analiza la relación de dos o mas variables. \n",
    "* El objetivo de ajustar un modelo de regresión lineal es estimar los valores de una variable respuesta con base en una o más variables explicativas.\n",
    "* Al ajustar un modelo de regresión simple o múltiple a una nube de puntos es importante disponer de alguna medida que permita medir la bondad del ajuste.(\\R^2)\n",
    "* Es necesario también tener en cuenta los supuestos del modelo de regresión y validarlos. Para que aplicar el modelo tenga sentido."
   ]
  }
 ],
 "metadata": {
  "kernelspec": {
   "display_name": "Python 3",
   "language": "python",
   "name": "python3"
  },
  "language_info": {
   "codemirror_mode": {
    "name": "ipython",
    "version": 3
   },
   "file_extension": ".py",
   "mimetype": "text/x-python",
   "name": "python",
   "nbconvert_exporter": "python",
   "pygments_lexer": "ipython3",
   "version": "3.8.5"
  }
 },
 "nbformat": 4,
 "nbformat_minor": 4
}
